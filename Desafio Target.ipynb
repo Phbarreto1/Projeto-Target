{
  "nbformat": 4,
  "nbformat_minor": 0,
  "metadata": {
    "colab": {
      "provenance": [],
      "authorship_tag": "ABX9TyPhDs4opAR1MN4lLfGILBrD",
      "include_colab_link": true
    },
    "kernelspec": {
      "name": "python3",
      "display_name": "Python 3"
    },
    "language_info": {
      "name": "python"
    }
  },
  "cells": [
    {
      "cell_type": "markdown",
      "metadata": {
        "id": "view-in-github",
        "colab_type": "text"
      },
      "source": [
        "<a href=\"https://colab.research.google.com/github/Phbarreto1/Projeto-Target/blob/main/Desafio%20Target.ipynb\" target=\"_parent\"><img src=\"https://colab.research.google.com/assets/colab-badge.svg\" alt=\"Open In Colab\"/></a>"
      ]
    },
    {
      "cell_type": "code",
      "execution_count": null,
      "metadata": {
        "id": "mus0JPyGF-4s"
      },
      "outputs": [],
      "source": [
        "indice = 13\n",
        "soma = 0\n",
        "k = 0\n",
        "\n",
        "while k < indice:\n",
        "  k = k + 1\n",
        "  soma = soma + k\n",
        "\n",
        "print (soma)\n"
      ]
    },
    {
      "cell_type": "code",
      "source": [
        "def fibonacci(n):\n",
        "    sequencia = []\n",
        "    a = 0\n",
        "    b = 1\n",
        "    if n == 0 or n == 1:\n",
        "        return [n]\n",
        "    else:\n",
        "        sequencia.append(a)\n",
        "        sequencia.append(b)\n",
        "        while len(sequencia) != n:\n",
        "            temp = a + b\n",
        "            sequencia.append(temp)\n",
        "            a = b\n",
        "            b = temp\n",
        "\n",
        "    return sequencia\n",
        "\n",
        "n = int(input(\"Informe um número: \"))\n",
        "\n",
        "print(fibonacci(n))\n",
        "\n",
        "for elemento in fibonacci(n):\n",
        "  if elemento == n:\n",
        "    print(\"O número\", n, \"pertence à sequência de Fibonacci\")\n",
        "\n",
        "print(\"O número\", n, \"não pertence à sequência de Fibonacci\")\n",
        "\n"
      ],
      "metadata": {
        "id": "po3RQJnzHO0F"
      },
      "execution_count": null,
      "outputs": []
    },
    {
      "cell_type": "markdown",
      "source": [
        "3ª Questão do Desafio Target:\n",
        "\n",
        "a) 1, 3, 5, 7, 9;\n",
        "\n",
        "b) 2, 4, 8, 16, 32, 64, 128;\n",
        "\n",
        "c) 0, 1, 4, 9, 16, 25, 36, 49;\n",
        "\n",
        "d) 4, 16, 36, 64, 256;\n",
        "\n",
        "e) 1, 1, 2, 3, 5, 8, 13;\n",
        "\n",
        "f) 2, 10, 12, 16, 17, 18, 19, 200;"
      ],
      "metadata": {
        "id": "FweoYBHzTJBk"
      }
    },
    {
      "cell_type": "markdown",
      "source": [
        "Podemos traçar um paralelo com o sistema de equação linear, onde nesse caso temos duas equações lineares e três incógnitas, portanto não é possível resolver o problema de forma concreta. No melhor dos casos, numa porcentagem baixa de chance, podemos acender os interruptores 1 e 2 e ir na sala 1, caso ela esteja apagada, temos a certeza de que o interruptor 3 está ligado à lâmpada da sala 1. Voltariamos à sala de interruptores, desligamos o interruptor 1 ou 2 e, na sequência, iriamos à sala 2 para checar se ela está acesa ou apagada, encontrando assim o restante dos interruptores."
      ],
      "metadata": {
        "id": "sS-0PEE8YHW8"
      }
    }
  ]
}