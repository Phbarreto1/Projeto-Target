{
  "nbformat": 4,
  "nbformat_minor": 0,
  "metadata": {
    "colab": {
      "provenance": [],
      "authorship_tag": "ABX9TyM1wJDjyoj1beoWicmHnLpd",
      "include_colab_link": true
    },
    "kernelspec": {
      "name": "python3",
      "display_name": "Python 3"
    },
    "language_info": {
      "name": "python"
    }
  },
  "cells": [
    {
      "cell_type": "markdown",
      "metadata": {
        "id": "view-in-github",
        "colab_type": "text"
      },
      "source": [
        "<a href=\"https://colab.research.google.com/github/Phbarreto1/Projeto-Target/blob/main/Desafio%20Target.ipynb\" target=\"_parent\"><img src=\"https://colab.research.google.com/assets/colab-badge.svg\" alt=\"Open In Colab\"/></a>"
      ]
    },
    {
      "cell_type": "code",
      "execution_count": null,
      "metadata": {
        "colab": {
          "base_uri": "https://localhost:8080/"
        },
        "id": "mus0JPyGF-4s",
        "outputId": "4dc5ef22-1ac5-4710-9749-92e839a43488"
      },
      "outputs": [
        {
          "output_type": "stream",
          "name": "stdout",
          "text": [
            "91\n"
          ]
        }
      ],
      "source": [
        "indice = 13\n",
        "soma = 0\n",
        "k = 0\n",
        "\n",
        "while k < indice:\n",
        "  k = k + 1\n",
        "  soma = soma + k\n",
        "\n",
        "print (soma)\n"
      ]
    },
    {
      "cell_type": "code",
      "source": [
        "def fibonacci(n):\n",
        "    sequencia = []\n",
        "    a = 0\n",
        "    b = 1\n",
        "    if n == 0 or n == 1:\n",
        "        return [n]\n",
        "    else:\n",
        "        sequencia.append(a)\n",
        "        sequencia.append(b)\n",
        "        while len(sequencia) != n:\n",
        "            temp = a + b\n",
        "            sequencia.append(temp)\n",
        "            a = b\n",
        "            b = temp\n",
        "\n",
        "    return sequencia\n",
        "\n",
        "n = int(input(\"Informe um número: \"))\n",
        "\n",
        "print(fibonacci(n))\n",
        "\n",
        "for elemento in fibonacci(n):\n",
        "  if elemento == n:\n",
        "    print(\"O número\", n, \"pertence à sequência de Fibonacci\")\n",
        "\n",
        "print(\"O número\", n, \"não pertence à sequência de Fibonacci\")\n",
        "\n"
      ],
      "metadata": {
        "id": "po3RQJnzHO0F",
        "outputId": "2316f41e-065a-4ab9-a48c-2817f6c619c1",
        "colab": {
          "base_uri": "https://localhost:8080/"
        }
      },
      "execution_count": 31,
      "outputs": [
        {
          "output_type": "stream",
          "name": "stdout",
          "text": [
            "Informe um número: 4\n",
            "[0, 1, 1, 2]\n",
            "O número 4 não pertence à sequência de Fibonacci\n"
          ]
        }
      ]
    }
  ]
}